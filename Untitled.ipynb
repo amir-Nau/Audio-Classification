{
 "cells": [
  {
   "cell_type": "code",
   "execution_count": 13,
   "metadata": {},
   "outputs": [],
   "source": [
    "import matplotlib.pyplot as plt\n",
    "\n",
    "import numpy as np\n",
    "import wave\n",
    "import soundfile as sf"
   ]
  },
  {
   "cell_type": "code",
   "execution_count": 27,
   "metadata": {},
   "outputs": [],
   "source": [
    "def visualize_wav(oggfile):\n",
    "\n",
    "    data, samplerate = sf.read(oggfile)\n",
    "\n",
    "    if not os.path.exists('sample_wav'):\n",
    "        os.mkdir('sample_wav')\n",
    "\n",
    "    sf.write('sample_wav/new_file.wav', data, samplerate)\n",
    "    spf = wave.open('sample_wav/new_file_Fire.wav')\n",
    "    signal = spf.readframes(-1)\n",
    "    signal = np.fromstring(signal,'Int16')\n",
    "\n",
    "    if spf.getnchannels() == 2:\n",
    "        print('just mono files. not stereo')\n",
    "        sys.exit(0)\n",
    "\n",
    "    # plotting x axis in seconds. create time vector spaced linearly with size of audio file. divide size of signal by frame rate to get stop limit\n",
    "    Time = np.linspace(0,len(signal)/samplerate, num = len(signal))\n",
    "    plt.figure(1)\n",
    "    plt.title('Signal Wave Vs Time(in sec)')\n",
    "    plt.plot(Time, signal)\n",
    "    plt.savefig('sample_wav/sample_waveplot_Fire.png', bbox_inches='tight')\n",
    "    plt.show()"
   ]
  },
  {
   "cell_type": "code",
   "execution_count": null,
   "metadata": {},
   "outputs": [],
   "source": []
  }
 ],
 "metadata": {
  "kernelspec": {
   "display_name": "Python 3",
   "language": "python",
   "name": "python3"
  },
  "language_info": {
   "codemirror_mode": {
    "name": "ipython",
    "version": 3
   },
   "file_extension": ".py",
   "mimetype": "text/x-python",
   "name": "python",
   "nbconvert_exporter": "python",
   "pygments_lexer": "ipython3",
   "version": "3.7.4"
  }
 },
 "nbformat": 4,
 "nbformat_minor": 4
}
